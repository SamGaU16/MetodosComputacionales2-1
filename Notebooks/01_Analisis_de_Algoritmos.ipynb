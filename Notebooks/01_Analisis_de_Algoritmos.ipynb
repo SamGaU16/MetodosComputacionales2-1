{
  "nbformat": 4,
  "nbformat_minor": 0,
  "metadata": {
    "colab": {
      "name": "01 - Analisis de Algoritmos.ipynb",
      "provenance": [],
      "collapsed_sections": [],
      "toc_visible": true
    },
    "kernelspec": {
      "name": "python3",
      "display_name": "Python 3"
    },
    "language_info": {
      "name": "python"
    }
  },
  "cells": [
    {
      "cell_type": "markdown",
      "source": [
        "# Análisis de Algoritmos, Big O Notation\n",
        "Métodos Computacionales 2"
      ],
      "metadata": {
        "id": "N5OqMfxRvoUe"
      }
    },
    {
      "cell_type": "markdown",
      "source": [
        "## Polynomial Complexity\n",
        "\n",
        "An algorithm has Polynomial complexity if its time increases with the size of the problem by the equation, \n",
        "$$\n",
        "O(n^x)\n",
        "$$"
      ],
      "metadata": {
        "id": "fpFIYKkzvplq"
      }
    },
    {
      "cell_type": "markdown",
      "source": [
        "**Example:** Matrix multiplication\n",
        "Given $A = A_{i,j} \\in \\mathbb{R}^{n\\times n}$ and $B_{j,k} \\in \\mathbb{R}^{n\\times n}$ the product $C = AB$ is given by,\n",
        "$$\n",
        "C_{i, k} = \\sum_{j=1}^{n}A_{i,j}B_{j,k}\n",
        "$$\n",
        "The summation has to be done $n$ times, for each $i$ and $k$ which run from $1$ to $n$, hence the complexity is given by, \n",
        "$$\n",
        "O(n^3)\n",
        "$$"
      ],
      "metadata": {
        "id": "MCe42MjavyC8"
      }
    },
    {
      "cell_type": "code",
      "source": [
        "import time\n",
        "import numpy as np"
      ],
      "metadata": {
        "id": "6NDI3xa_vo0d"
      },
      "execution_count": 1,
      "outputs": []
    },
    {
      "cell_type": "code",
      "source": [
        "def matrix_multiplication(A, B, C):\n",
        "    n = len(A)\n",
        "    m = len(A[0])\n",
        "    p = len(B[0])\n",
        "    for i in range(n):\n",
        "        for j in range(m):\n",
        "            for k in range(p):\n",
        "                C[i, k] += A[i, j]*B[j, k]\n",
        "    return C"
      ],
      "metadata": {
        "id": "N2uEJd4pvuz0"
      },
      "execution_count": 2,
      "outputs": []
    },
    {
      "cell_type": "code",
      "source": [
        "times = []\n",
        "for n in [64, 128, 256, 512]:\n",
        "    A = np.random.randint(10, size=(n, n))\n",
        "    B = np.random.randint(10, size=(n, n))\n",
        "    C = np.random.randint(10, size=(n, n))\n",
        "    time_initial = time.time()\n",
        "    matrix_multiplication(A, B, C)\n",
        "    print(time.time() - time_initial)\n",
        "    times.append(float(time.time() - time_initial))\n",
        "    \n",
        "print(times)"
      ],
      "metadata": {
        "colab": {
          "base_uri": "https://localhost:8080/"
        },
        "id": "xwDMxZ91v4Sg",
        "outputId": "078775ac-f4a7-49ae-86f4-adec81093822"
      },
      "execution_count": 10,
      "outputs": [
        {
          "output_type": "stream",
          "name": "stdout",
          "text": [
            "0.17365002632141113\n",
            "1.3889751434326172\n",
            "10.555710554122925\n",
            "87.31550168991089\n",
            "[0.17483258247375488, 1.3891592025756836, 10.556864976882935, 87.31574296951294]\n"
          ]
        }
      ]
    },
    {
      "cell_type": "code",
      "source": [
        "times[3]/times[2], times[2]/times[1], times[1]/times[0]"
      ],
      "metadata": {
        "colab": {
          "base_uri": "https://localhost:8080/"
        },
        "id": "vZiD8FyNv_Mb",
        "outputId": "5f479b84-5005-4889-8780-88538606b3c3"
      },
      "execution_count": 11,
      "outputs": [
        {
          "output_type": "execute_result",
          "data": {
            "text/plain": [
              "(8.2709917348298, 7.599463731233339, 7.945653967470384)"
            ]
          },
          "metadata": {},
          "execution_count": 11
        }
      ]
    },
    {
      "cell_type": "markdown",
      "source": [
        "## Logarithmic Complexity\n",
        "\n",
        "An algorithm has Logarithmic complexity if its time increases with the size of the problem by the equation, \n",
        "\n",
        "$$\n",
        "O(\\log(n))\n",
        "$$\n",
        "\n",
        "This complexity is optimal."
      ],
      "metadata": {
        "id": "ksvz_bThw8h-"
      }
    },
    {
      "cell_type": "markdown",
      "source": [
        "**Example:** Given a number find the number of steps to obtain a number less than 1 by iteratively dividing by 2.\n",
        "\n",
        "$$\n",
        "2 / 2 = 1, \\quad 1 \\text{ step}, \\quad \\log(2) = 1 \\\\\n",
        "4 / 2 / 2 = 1, \\quad  2 \\text{ steps},  \\quad \\log(4) = 1  \\\\\n",
        "16 / 2 / 2 / 2 / 2 = 1, \\quad 4 \\text{ steps}, \\quad \\log(16) = 4 \\\\\n",
        "$$"
      ],
      "metadata": {
        "id": "yGfgITV5xmZ9"
      }
    },
    {
      "cell_type": "code",
      "source": [
        "def num_steps(number):\n",
        "  steps = 0\n",
        "  num_temp = number\n",
        "  while num_temp >= 1:\n",
        "    num_temp = num_temp / 2\n",
        "    steps += 1\n",
        "  return steps"
      ],
      "metadata": {
        "id": "hSDT8yKlxAob"
      },
      "execution_count": 5,
      "outputs": []
    },
    {
      "cell_type": "code",
      "source": [
        "times = []\n",
        "for number in [2**10, 2**100, 2**1000, 2*10000, 2*100000]:\n",
        "    time_initial = time.time()\n",
        "    num_steps(number)\n",
        "    print(time.time() - time_initial)\n",
        "    times.append(time.time() - time_initial)\n",
        "\n",
        "print(times)"
      ],
      "metadata": {
        "colab": {
          "base_uri": "https://localhost:8080/"
        },
        "id": "D3qMV-3WzitT",
        "outputId": "c654bdea-f9b5-48da-a925-251554dc3118"
      },
      "execution_count": 6,
      "outputs": [
        {
          "output_type": "stream",
          "name": "stdout",
          "text": [
            "5.245208740234375e-06\n",
            "2.2172927856445312e-05\n",
            "0.00033354759216308594\n",
            "6.9141387939453125e-06\n",
            "4.76837158203125e-06\n",
            "[0.0007214546203613281, 0.0005102157592773438, 0.0013608932495117188, 4.8160552978515625e-05, 3.1948089599609375e-05]\n"
          ]
        }
      ]
    },
    {
      "cell_type": "code",
      "source": [
        "times[4]/times[3], times[3]/times[2], times[2]/times[1], times[1]/times[0]"
      ],
      "metadata": {
        "colab": {
          "base_uri": "https://localhost:8080/"
        },
        "outputId": "a4795950-b285-4271-f4cb-16e73fcbacdc",
        "id": "B1P7cXOe0rLV"
      },
      "execution_count": 7,
      "outputs": [
        {
          "output_type": "execute_result",
          "data": {
            "text/plain": [
              "(0.6633663366336634,\n",
              " 0.03538892782060266,\n",
              " 2.6672897196261682,\n",
              " 0.7072042300066094)"
            ]
          },
          "metadata": {},
          "execution_count": 7
        }
      ]
    },
    {
      "cell_type": "markdown",
      "source": [
        "## Dinamical programming"
      ],
      "metadata": {
        "id": "grIrZzeKwyMZ"
      }
    },
    {
      "cell_type": "code",
      "source": [
        "import numpy as np\n",
        "def fibonnaci_dinamical(n):\n",
        "    din_ar = np.zeros(n)\n",
        "    din_ar[0], din_ar[1] = 1, 1\n",
        "    for i in range(2, n):\n",
        "        din_ar[i] = din_ar[i-1] + din_ar[i-2]\n",
        "    return din_ar[n-1]"
      ],
      "metadata": {
        "id": "AswwgK2j1Edi"
      },
      "execution_count": 8,
      "outputs": []
    },
    {
      "cell_type": "code",
      "source": [
        "print(fibonnaci_dinamical(100))"
      ],
      "metadata": {
        "id": "7V096-upDgjl"
      },
      "execution_count": null,
      "outputs": []
    },
    {
      "cell_type": "code",
      "source": [
        "def fibonacci(n):\n",
        "    if n == 1:\n",
        "        return 1\n",
        "    if n == 2:\n",
        "        return 1\n",
        "    return fibonacci(n-1) + fibonacci(n-2)"
      ],
      "metadata": {
        "id": "9Lu1To7-DkdE"
      },
      "execution_count": null,
      "outputs": []
    },
    {
      "cell_type": "code",
      "source": [
        "fibonacci(100)"
      ],
      "metadata": {
        "id": "xx2LdU-pDnHI"
      },
      "execution_count": null,
      "outputs": []
    },
    {
      "cell_type": "markdown",
      "source": [
        "## Sorting Algorithms"
      ],
      "metadata": {
        "id": "M1gklYMdGxwZ"
      }
    },
    {
      "cell_type": "markdown",
      "source": [
        "### Selection Sort (Brute Force)"
      ],
      "metadata": {
        "id": "vYB_kqCIKk5m"
      }
    },
    {
      "cell_type": "code",
      "source": [
        "def selection_sort(list_unsorted):\n",
        "  n = len(list_unsorted)\n",
        "  min = 100000\n",
        "  for i in range(0, n - 1):\n",
        "    min = i\n",
        "    for j in range(i+1, n):\n",
        "      if list_unsorted[j] < list_unsorted[min]:\n",
        "        min = j\n",
        "    if min != i:\n",
        "      a = list_unsorted[i]\n",
        "      b = list_unsorted[min]\n",
        "      list_unsorted[min] = a\n",
        "      list_unsorted[i] = b\n",
        "      \n",
        "  return list_unsorted\n",
        "\n",
        "unsorted_list = np.array([4, 1, 5, 7, 2, 6, 1, 1, 6, 4, 10, 33, 5, 7, 23])\n",
        "print(selection_sort(unsorted_list))"
      ],
      "metadata": {
        "colab": {
          "base_uri": "https://localhost:8080/"
        },
        "id": "_3_OV2OBKoHv",
        "outputId": "216d7fe4-8af4-4361-a535-133da4ce5281"
      },
      "execution_count": null,
      "outputs": [
        {
          "output_type": "stream",
          "name": "stdout",
          "text": [
            "[ 1  1  1  2  4  4  5  5  6  6  7  7 10 23 33]\n"
          ]
        }
      ]
    }
  ]
}